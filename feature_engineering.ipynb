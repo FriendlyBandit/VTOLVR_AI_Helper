{
 "cells": [
  {
   "cell_type": "code",
   "execution_count": 10,
   "metadata": {},
   "outputs": [],
   "source": [
    "map_editor_path = './temp/map_editor_messages.csv'\n",
    "mission_editor_path = './temp/mission_editor_messages.csv'\n",
    "flight_school_path = './temp/flight_school_messages.csv'"
   ]
  },
  {
   "cell_type": "code",
   "execution_count": 11,
   "metadata": {},
   "outputs": [],
   "source": [
    "import pandas as pd\n",
    "import datetime\n",
    "import json"
   ]
  },
  {
   "cell_type": "code",
   "execution_count": 12,
   "metadata": {},
   "outputs": [],
   "source": [
    "def generate_data(input_df, QA_dataset, title):\n",
    "    length = input_df.shape[0]\n",
    "    for index, row in input_df.iterrows():\n",
    "        row_str = row['Content']\n",
    "        if '?' in row_str and len(row_str.split(' ')) > 4:   \n",
    "            context = ''\n",
    "\n",
    "            for idx in range(index, index+3):\n",
    "                if idx < length:\n",
    "                    context += input_df.iloc[idx]['Content'] + \"\\n\"\n",
    "            context += \"\\n\"\n",
    "\n",
    "            QA_dataset['data'].append(\n",
    "                {\n",
    "                    \"title\": title,\n",
    "                    \"paragraphs\": [\n",
    "                        {\n",
    "                            \"qas\":[\n",
    "                                {   \n",
    "                                    \"question\": row_str,\n",
    "                                    \"id\": index,\n",
    "                                    \"answers\":[\n",
    "                                        {\n",
    "                                            \"text\": row_str,\n",
    "                                            \"answer_start\": 0\n",
    "                                        }\n",
    "                                    ]\n",
    "                                }\n",
    "                            ],\n",
    "                            \"context\": context\n",
    "                        }\n",
    "                    ]\n",
    "                }\n",
    "            )"
   ]
  },
  {
   "cell_type": "code",
   "execution_count": 13,
   "metadata": {},
   "outputs": [],
   "source": [
    "def clean_df(input_df):\n",
    "    input_df['Date'] = pd.to_datetime(input_df['Date'], format=\"%m/%d/%Y %I:%M %p\")\n",
    "    input_df = input_df[input_df['Content'].isna() == False]\n",
    "    input_df = input_df[input_df['Date'] >= datetime.datetime.strptime(\"2021\", \"%Y\")]\n",
    "    input_df = input_df.reset_index()\n",
    "    return input_df"
   ]
  },
  {
   "cell_type": "code",
   "execution_count": 14,
   "metadata": {},
   "outputs": [],
   "source": [
    "mission_editor_df = pd.read_csv(mission_editor_path, header=0)\n",
    "map_editor_df = pd.read_csv(mission_editor_path, header=0)\n",
    "flight_school_df = pd.read_csv(mission_editor_path, header=0)"
   ]
  },
  {
   "cell_type": "code",
   "execution_count": 15,
   "metadata": {},
   "outputs": [],
   "source": [
    "mission_editor_df = clean_df(mission_editor_df)\n",
    "map_editor_df = clean_df(map_editor_df)\n",
    "flight_school_df = clean_df(flight_school_df)"
   ]
  },
  {
   "cell_type": "code",
   "execution_count": 16,
   "metadata": {},
   "outputs": [],
   "source": [
    "QA_dataset = {\n",
    "    \"version\": \"v1.0\",\n",
    "    \"data\": []\n",
    "}\n"
   ]
  },
  {
   "cell_type": "code",
   "execution_count": 17,
   "metadata": {},
   "outputs": [
    {
     "name": "stdout",
     "output_type": "stream",
     "text": [
      "3909\n",
      "7818\n",
      "11727\n"
     ]
    }
   ],
   "source": [
    "generate_data(mission_editor_df, QA_dataset, \"mission_editor\")\n",
    "print(len(QA_dataset['data']))\n",
    "generate_data(map_editor_df, QA_dataset, \"map_editor\")\n",
    "print(len(QA_dataset['data']))\n",
    "generate_data(flight_school_df, QA_dataset, \"flight_school\")\n",
    "print(len(QA_dataset['data']))"
   ]
  },
  {
   "cell_type": "code",
   "execution_count": 18,
   "metadata": {},
   "outputs": [
    {
     "data": {
      "text/plain": [
       "7482680"
      ]
     },
     "execution_count": 18,
     "metadata": {},
     "output_type": "execute_result"
    }
   ],
   "source": [
    "open('./training/QA_training_data.json','w').write(json.dumps(QA_dataset))"
   ]
  }
 ],
 "metadata": {
  "kernelspec": {
   "display_name": "Python 3",
   "language": "python",
   "name": "python3"
  },
  "language_info": {
   "codemirror_mode": {
    "name": "ipython",
    "version": 3
   },
   "file_extension": ".py",
   "mimetype": "text/x-python",
   "name": "python",
   "nbconvert_exporter": "python",
   "pygments_lexer": "ipython3",
   "version": "3.8.5"
  },
  "orig_nbformat": 4
 },
 "nbformat": 4,
 "nbformat_minor": 2
}
