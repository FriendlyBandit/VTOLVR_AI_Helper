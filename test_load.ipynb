{
 "cells": [
  {
   "cell_type": "code",
   "execution_count": 1,
   "metadata": {},
   "outputs": [],
   "source": [
    "map_editor_path = '/home/friendlybandit/MountFiles/documents/BDynamics(VTOLVR)-Collaborate-map_editor[547123804850225176].csv'\n",
    "mission_editor_path = '/home/friendlybandit/MountFiles/documents/BDynamics(VTOLVR)-Collaborate-mission_editor[408290968232525868].csv'\n",
    "flight_school_path = '/home/friendlybandit/MountFiles/documents/BDynamics(VTOLVR)-Fly-flight_school[343253364081033226].csv'\n",
    "paths = [flight_school_path, map_editor_path, mission_editor_path]\n",
    "new_paths = ['./temp/flight_school_messages.csv', './temp/map_editor_messages.csv', './temp/mission_editor_messages.csv']"
   ]
  },
  {
   "cell_type": "code",
   "execution_count": 2,
   "metadata": {},
   "outputs": [],
   "source": [
    "import os.path\n",
    "check = False\n",
    "if os.path.exists(new_paths[0]) and os.path.exists(new_paths[1]) and os.path.exists(new_paths[2]):\n",
    "    check = True\n",
    "if check == False:\n",
    "    for index, path in enumerate(paths):\n",
    "        with open(path, 'r', encoding='utf-8') as f:\n",
    "            temp_string = \"\"\n",
    "            temp_string += f.readline().strip() + '\\n'\n",
    "            data = f.read()  \n",
    "            splid_data = data.split('\"\\n')\n",
    "            for line in splid_data: \n",
    "                temp_string += line.replace('\\n', ' ') + '\"\\n'       \n",
    "\n",
    "            temp_string = temp_string[:-2]\n",
    "            new_save = open(new_paths[index], 'w', encoding='utf-8')\n",
    "            new_save.write(temp_string)\n",
    "            new_save.close()"
   ]
  }
 ],
 "metadata": {
  "kernelspec": {
   "display_name": "venv",
   "language": "python",
   "name": "python3"
  },
  "language_info": {
   "codemirror_mode": {
    "name": "ipython",
    "version": 3
   },
   "file_extension": ".py",
   "mimetype": "text/x-python",
   "name": "python",
   "nbconvert_exporter": "python",
   "pygments_lexer": "ipython3",
   "version": "3.8.5"
  },
  "orig_nbformat": 4
 },
 "nbformat": 4,
 "nbformat_minor": 2
}
